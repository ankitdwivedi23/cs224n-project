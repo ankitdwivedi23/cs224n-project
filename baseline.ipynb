{
 "cells": [
  {
   "cell_type": "code",
   "execution_count": 1,
   "metadata": {},
   "outputs": [],
   "source": [
    "import args\n",
    "import util\n",
    "import layers\n",
    "import models"
   ]
  },
  {
   "cell_type": "code",
   "execution_count": 2,
   "metadata": {},
   "outputs": [],
   "source": [
    "import numpy as np\n",
    "import random\n",
    "import torch\n",
    "import torch.nn as nn\n",
    "import torch.nn.functional as F\n",
    "import torch.optim as optim\n",
    "import torch.optim.lr_scheduler as sched\n",
    "import torch.utils.data as data\n",
    "import util\n",
    "\n",
    "from args import get_train_args\n",
    "from collections import OrderedDict\n",
    "from json import dumps\n",
    "from models import Seq2Seq\n",
    "from tqdm import tqdm\n",
    "from ujson import load as json_load\n",
    "from util import collate_fn, SQuAD"
   ]
  },
  {
   "cell_type": "code",
   "execution_count": 3,
   "metadata": {},
   "outputs": [
    {
     "name": "stdout",
     "output_type": "stream",
     "text": [
      "./save/train\\testrun-15\n"
     ]
    }
   ],
   "source": [
    "save_dir = './save/'\n",
    "name = \"testrun\"\n",
    "save_dir = util.get_save_dir(save_dir, name, training=True)\n",
    "print(save_dir)"
   ]
  },
  {
   "cell_type": "code",
   "execution_count": 4,
   "metadata": {},
   "outputs": [],
   "source": [
    "# Set up logging and devices\n",
    "log = util.get_logger(save_dir, name)"
   ]
  },
  {
   "cell_type": "code",
   "execution_count": 5,
   "metadata": {},
   "outputs": [
    {
     "name": "stdout",
     "output_type": "stream",
     "text": [
      "cpu\n",
      "[]\n"
     ]
    }
   ],
   "source": [
    "device, gpu_ids = util.get_available_devices()\n",
    "print(device)\n",
    "print(gpu_ids)"
   ]
  },
  {
   "cell_type": "code",
   "execution_count": 6,
   "metadata": {},
   "outputs": [
    {
     "name": "stdout",
     "output_type": "stream",
     "text": [
      "64\n"
     ]
    }
   ],
   "source": [
    "batch_size=64\n",
    "batch_size *= max(1, len(gpu_ids))\n",
    "print(batch_size)"
   ]
  },
  {
   "cell_type": "code",
   "execution_count": 7,
   "metadata": {},
   "outputs": [
    {
     "name": "stdout",
     "output_type": "stream",
     "text": [
      "[03.01.20 14:10:01] Using random seed 224...\n"
     ]
    }
   ],
   "source": [
    "# Set random seed\n",
    "seed=224\n",
    "log.info(f'Using random seed {seed}...')\n",
    "random.seed(seed)\n",
    "np.random.seed(seed)\n",
    "torch.manual_seed(seed)\n",
    "torch.cuda.manual_seed_all(seed)"
   ]
  },
  {
   "cell_type": "code",
   "execution_count": 8,
   "metadata": {},
   "outputs": [
    {
     "name": "stdout",
     "output_type": "stream",
     "text": [
      "[03.01.20 14:10:01] Loading embeddings...\n"
     ]
    }
   ],
   "source": [
    "# Get embeddings\n",
    "log.info('Loading embeddings...')\n",
    "word_emb_file= './data/word_emb.json'\n",
    "word_vectors = util.torch_from_json(word_emb_file)"
   ]
  },
  {
   "cell_type": "code",
   "execution_count": 9,
   "metadata": {},
   "outputs": [
    {
     "name": "stdout",
     "output_type": "stream",
     "text": [
      "[03.01.20 14:10:02] Building model...\n"
     ]
    }
   ],
   "source": [
    "# Get model\n",
    "log.info('Building model...')\n",
    "hidden_size=100\n",
    "drop_prob=0.2\n",
    "model = Seq2Seq(word_vectors=word_vectors,\n",
    "                hidden_size=hidden_size,\n",
    "                output_size=word_vectors.size(0),\n",
    "                drop_prob=drop_prob)\n",
    "model = nn.DataParallel(model, gpu_ids)"
   ]
  },
  {
   "cell_type": "code",
   "execution_count": 10,
   "metadata": {},
   "outputs": [],
   "source": [
    "step = 0\n",
    "ema_decay = 0.999\n",
    "model = model.to(device)\n",
    "model.train()\n",
    "ema = util.EMA(model, ema_decay)"
   ]
  },
  {
   "cell_type": "code",
   "execution_count": 11,
   "metadata": {},
   "outputs": [
    {
     "name": "stdout",
     "output_type": "stream",
     "text": [
      "[03.01.20 14:10:02] Saver will minimize PPL...\n"
     ]
    }
   ],
   "source": [
    " # Get saver\n",
    "max_checkpoints=5\n",
    "metric_name='PPL'\n",
    "maximize_metric=False\n",
    "saver = util.CheckpointSaver(save_dir,\n",
    "                             max_checkpoints=5,\n",
    "                             metric_name=metric_name,\n",
    "                             maximize_metric=maximize_metric,\n",
    "                             log=log)\n"
   ]
  },
  {
   "cell_type": "code",
   "execution_count": 12,
   "metadata": {},
   "outputs": [],
   "source": [
    "# Get optimizer and scheduler\n",
    "lr = 0.5\n",
    "l2_wd = 0\n",
    "optimizer = optim.Adam(model.parameters(), lr,\n",
    "                           weight_decay=l2_wd)\n",
    "                               \n",
    "scheduler = sched.LambdaLR(optimizer, lambda s: 1.)  # Constant LR"
   ]
  },
  {
   "cell_type": "code",
   "execution_count": 13,
   "metadata": {},
   "outputs": [
    {
     "name": "stdout",
     "output_type": "stream",
     "text": [
      "[03.01.20 14:10:02] Building dataset...\n"
     ]
    }
   ],
   "source": [
    "# Get data loader\n",
    "train_record_file = './data/sample/train.npz'\n",
    "dev_record_file = './data/sample/dev.npz'\n",
    "use_squad_v2 = False\n",
    "num_workers = 4\n",
    "\n",
    "log.info('Building dataset...')\n",
    "train_dataset = SQuAD(train_record_file, use_squad_v2)\n",
    "train_loader = data.DataLoader(train_dataset,\n",
    "                               batch_size=batch_size,\n",
    "                               shuffle=True,\n",
    "                               num_workers=num_workers,\n",
    "                               collate_fn=collate_fn)\n",
    "dev_dataset = SQuAD(dev_record_file, use_squad_v2)\n",
    "dev_loader = data.DataLoader(dev_dataset,\n",
    "                             batch_size=batch_size,\n",
    "                             shuffle=False,\n",
    "                             num_workers=num_workers,\n",
    "                             collate_fn=collate_fn)"
   ]
  },
  {
   "cell_type": "code",
   "execution_count": 14,
   "metadata": {},
   "outputs": [
    {
     "name": "stdout",
     "output_type": "stream",
     "text": [
      "torch.Size([24, 361])\n",
      "tensor([[ 1067,  5169,  1603,  ...,     0,     0,     0],\n",
      "        [ 4189,    14,   133,  ...,     0,     0,     0],\n",
      "        [   93,     6,  1961,  ...,    33,    94,     5],\n",
      "        ...,\n",
      "        [  762,  6029,  7159,  ...,     0,     0,     0],\n",
      "        [21169,    33, 15254,  ...,     0,     0,     0],\n",
      "        [ 7563,   333,    59,  ...,     0,     0,     0]])\n",
      "torch.Size([24, 26])\n",
      "tensor([[    2,   192,  2180,    34,   905,     8,  1457,     6,  5169,  1528,\n",
      "            28,  1007,    41,     3,     0,     0,     0,     0,     0,     0,\n",
      "             0,     0,     0,     0,     0,     0],\n",
      "        [    2,   192,    14,     6,   276,    54,  6502,   432,  5623,     9,\n",
      "           133,   443,    41,     3,     0,     0,     0,     0,     0,     0,\n",
      "             0,     0,     0,     0,     0,     0],\n",
      "        [    2,   977,    34,     6,  1716,     9,     6,  2756,     9,   911,\n",
      "            19, 19268,  1518,   214,    11, 17631,    41,     3,     0,     0,\n",
      "             0,     0,     0,     0,     0,     0],\n",
      "        [    2,   977,   903,     6,  7908,    33,  1582,  2262,    11, 11788,\n",
      "            41,     3,     0,     0,     0,     0,     0,     0,     0,     0,\n",
      "             0,     0,     0,     0,     0,     0],\n",
      "        [    2,    26,  5933,  9470,  2814,  8508,    27,   849,    29,    70,\n",
      "           992,    11,  4269,    41,     3,     0,     0,     0,     0,     0,\n",
      "             0,     0,     0,     0,     0,     0],\n",
      "        [    2,   192,   527,     9,   328,    34,  5308,  5556,   503,    41,\n",
      "             3,     0,     0,     0,     0,     0,     0,     0,     0,     0,\n",
      "             0,     0,     0,     0,     0,     0],\n",
      "        [    2,   261,    81,   490,     9,   742,    34,    10, 13456,     9,\n",
      "             6,  3844,    24,   509, 12012,  1222,     8, 13080,   108,  9944,\n",
      "          4380,    41,     3,     0,     0,     0],\n",
      "        [    2,   192,   512,     9,  1812,    34,  1290,  3954,    11,     6,\n",
      "          1349,    41,     3,     0,     0,     0,     0,     0,     0,     0,\n",
      "             0,     0,     0,     0,     0,     0],\n",
      "        [    2,   256,   145,  2801,    27,    86,     8, 22636,    41,     3,\n",
      "             0,     0,     0,     0,     0,     0,     0,     0,     0,     0,\n",
      "             0,     0,     0,     0,     0,     0],\n",
      "        [    2,   192,   130,  5141, 15230, 19845,   342,    41,     3,     0,\n",
      "             0,     0,     0,     0,     0,     0,     0,     0,     0,     0,\n",
      "             0,     0,     0,     0,     0,     0],\n",
      "        [    2,   192,    90,     6,   138,  2666,     9,  2654,  2527,    32,\n",
      "         19268,   338,    23,    63,  3158,  6398, 12481,    11, 12371,    41,\n",
      "             3,     0,     0,     0,     0,     0],\n",
      "        [    2,   257,   130, 14899,   808,     8,  2248,    41,     3,     0,\n",
      "             0,     0,     0,     0,     0,     0,     0,     0,     0,     0,\n",
      "             0,     0,     0,     0,     0,     0],\n",
      "        [    2,   592,  1347, 20611,   871,  6402,    32,  2412,    81,    41,\n",
      "             3,     0,     0,     0,     0,     0,     0,     0,     0,     0,\n",
      "             0,     0,     0,     0,     0,     0],\n",
      "        [    2,  2323,  1283,   304,    34, 19312,    41,     3,     0,     0,\n",
      "             0,     0,     0,     0,     0,     0,     0,     0,     0,     0,\n",
      "             0,     0,     0,     0,     0,     0],\n",
      "        [    2,   256,    50,   125,   102,  3325,     6,  1329,    23,    61,\n",
      "          2230,    41,     3,     0,     0,     0,     0,     0,     0,     0,\n",
      "             0,     0,     0,     0,     0,     0],\n",
      "        [    2,  1362,   340,   590, 10417,   130,    34,    81,   651,    41,\n",
      "             3,     0,     0,     0,     0,     0,     0,     0,     0,     0,\n",
      "             0,     0,     0,     0,     0,     0],\n",
      "        [    2,   256,   141,   305,   130,   349,  7149,  3749,    33,  2783,\n",
      "            11,   108,  7399,   533,    41,     3,     0,     0,     0,     0,\n",
      "             0,     0,     0,     0,     0,     0],\n",
      "        [    2,   256,   145,   632,   130, 14899,   946,    11, 14632,    41,\n",
      "             3,     0,     0,     0,     0,     0,     0,     0,     0,     0,\n",
      "             0,     0,     0,     0,     0,     0],\n",
      "        [    2,   256,   145,  7839,  2533,    27,  4491,    11,  2280,    41,\n",
      "             3,     0,     0,     0,     0,     0,     0,     0,     0,     0,\n",
      "             0,     0,     0,     0,     0,     0],\n",
      "        [    2,   765, 16669,  9192,    53,    36,   393,   623,    20,  1228,\n",
      "           103, 11680,  1061,   854,    41,     3,     0,     0,     0,     0,\n",
      "             0,     0,     0,     0,     0,     0],\n",
      "        [    2,   257,    34,    26,   882, 19457,  1127,  1222,    41,     3,\n",
      "             0,     0,     0,     0,     0,     0,     0,     0,     0,     0,\n",
      "             0,     0,     0,     0,     0,     0],\n",
      "        [    2,   192,    14,    43,   538,     9,    43, 11793,    19,    49,\n",
      "            10,  2325,     9,   108,  5690,   990,   842,     9,   108, 15525,\n",
      "            41,     3,     0,     0,     0,     0],\n",
      "        [    2,   192,   527,     9,   392,  1113,   122,    35,    87,     6,\n",
      "           657,    62,   145,  3894,    90,   341,     8,    89,   104,   521,\n",
      "           620, 11399,  4754,   235,    41,     3],\n",
      "        [    2,   192,   130, 16778, 20305,   506,  6961,    11,  5953,    41,\n",
      "             3,     0,     0,     0,     0,     0,     0,     0,     0,     0,\n",
      "             0,     0,     0,     0,     0,     0]])\n"
     ]
    }
   ],
   "source": [
    "for cw_idxs, cc_idxs, qw_idxs, qc_idxs, y1, y2, ids in train_loader:\n",
    "                # Setup for forward\n",
    "                cw_idxs = cw_idxs.to(device)\n",
    "                qw_idxs = qw_idxs.to(device)\n",
    "                batch_size = cw_idxs.size(0)\n",
    "print(cw_idxs.shape)\n",
    "print(cw_idxs)\n",
    "\n",
    "print(qw_idxs.shape)\n",
    "print(qw_idxs)"
   ]
  },
  {
   "cell_type": "code",
   "execution_count": 15,
   "metadata": {},
   "outputs": [
    {
     "name": "stdout",
     "output_type": "stream",
     "text": [
      "c_mask shape:\n",
      "torch.Size([24, 361])\n",
      "q_mask shape:\n",
      "torch.Size([24, 25])\n",
      "o_t shape:\n",
      "torch.Size([24, 1, 100])\n",
      "decoder_outputs shape:\n",
      "torch.Size([24, 25, 100])\n",
      "logits shape:\n",
      "torch.Size([24, 25, 23716])\n",
      "q_mask shape:\n",
      "torch.Size([24, 25, 23716])\n"
     ]
    }
   ],
   "source": [
    "#Forward\n",
    "log_p = model(cw_idxs, qw_idxs)"
   ]
  },
  {
   "cell_type": "code",
   "execution_count": 16,
   "metadata": {},
   "outputs": [
    {
     "name": "stdout",
     "output_type": "stream",
     "text": [
      "torch.Size([600, 23716])\n"
     ]
    }
   ],
   "source": [
    "log_p = log_p.contiguous().view(log_p.size(0) * log_p.size(1), log_p.size(2))\n",
    "print(log_p.shape)"
   ]
  },
  {
   "cell_type": "code",
   "execution_count": 21,
   "metadata": {},
   "outputs": [
    {
     "name": "stdout",
     "output_type": "stream",
     "text": [
      "qw_idxs_target shape:\n",
      "torch.Size([600])\n"
     ]
    }
   ],
   "source": [
    "qw_idxs_target = qw_idxs[:, 1:]\n",
    "qw_idxs_target = qw_idxs_target.contiguous().view(qw_idxs_target.size(0) * qw_idxs_target.size(1))\n",
    "print(\"qw_idxs_target shape:\")\n",
    "print(qw_idxs_target.shape)\n",
    "loss = F.nll_loss(log_p, qw_idxs_target, ignore_index=0, reduction='sum')"
   ]
  },
  {
   "cell_type": "code",
   "execution_count": 22,
   "metadata": {},
   "outputs": [
    {
     "name": "stdout",
     "output_type": "stream",
     "text": [
      "3132.04931640625\n"
     ]
    }
   ],
   "source": [
    "print(loss.item())"
   ]
  },
  {
   "cell_type": "code",
   "execution_count": 25,
   "metadata": {},
   "outputs": [],
   "source": [
    "cum_loss = loss.item()\n",
    "q_mask = torch.zeros_like(qw_idxs_target) != qw_idxs_target\n",
    "q_len = q_mask.sum(-1)\n",
    "tgt_word_num_to_predict = torch.sum(q_len).item()\n",
    "cum_tgt_words = tgt_word_num_to_predict"
   ]
  },
  {
   "cell_type": "code",
   "execution_count": 26,
   "metadata": {},
   "outputs": [
    {
     "name": "stdout",
     "output_type": "stream",
     "text": [
      "311\n"
     ]
    }
   ],
   "source": [
    "print(cum_tgt_words)"
   ]
  },
  {
   "cell_type": "code",
   "execution_count": 27,
   "metadata": {},
   "outputs": [
    {
     "name": "stdout",
     "output_type": "stream",
     "text": [
      "3132.04931640625\n"
     ]
    }
   ],
   "source": [
    "print(cum_loss)"
   ]
  },
  {
   "cell_type": "code",
   "execution_count": 28,
   "metadata": {},
   "outputs": [
    {
     "data": {
      "text/plain": [
       "23644.79117808982"
      ]
     },
     "execution_count": 28,
     "metadata": {},
     "output_type": "execute_result"
    }
   ],
   "source": [
    "np.exp(cum_loss / cum_tgt_words)"
   ]
  },
  {
   "cell_type": "code",
   "execution_count": null,
   "metadata": {},
   "outputs": [],
   "source": []
  }
 ],
 "metadata": {
  "kernelspec": {
   "display_name": "squad",
   "language": "python",
   "name": "squad"
  },
  "language_info": {
   "codemirror_mode": {
    "name": "ipython",
    "version": 3
   },
   "file_extension": ".py",
   "mimetype": "text/x-python",
   "name": "python",
   "nbconvert_exporter": "python",
   "pygments_lexer": "ipython3",
   "version": "3.6.7"
  }
 },
 "nbformat": 4,
 "nbformat_minor": 2
}
